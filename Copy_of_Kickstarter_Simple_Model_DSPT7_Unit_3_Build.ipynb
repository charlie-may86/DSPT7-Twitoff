{
  "nbformat": 4,
  "nbformat_minor": 0,
  "metadata": {
    "kernelspec": {
      "display_name": "Python 3",
      "language": "python",
      "name": "python3"
    },
    "language_info": {
      "codemirror_mode": {
        "name": "ipython",
        "version": 3
      },
      "file_extension": ".py",
      "mimetype": "text/x-python",
      "name": "python",
      "nbconvert_exporter": "python",
      "pygments_lexer": "ipython3",
      "version": "3.7.6"
    },
    "colab": {
      "name": "Copy of Kickstarter Simple Model DSPT7 Unit 3 Build",
      "provenance": [],
      "collapsed_sections": [
        "5qFyOcMerQNT",
        "SsDrQBIuf7yW"
      ],
      "toc_visible": true,
      "include_colab_link": true
    },
    "accelerator": "TPU"
  },
  "cells": [
    {
      "cell_type": "markdown",
      "metadata": {
        "id": "view-in-github",
        "colab_type": "text"
      },
      "source": [
        "<a href=\"https://colab.research.google.com/github/charlie-may86/DSPT7-Twitoff/blob/master/Copy_of_Kickstarter_Simple_Model_DSPT7_Unit_3_Build.ipynb\" target=\"_parent\"><img src=\"https://colab.research.google.com/assets/colab-badge.svg\" alt=\"Open In Colab\"/></a>"
      ]
    },
    {
      "cell_type": "markdown",
      "metadata": {
        "id": "fE8ynJ07lE7V"
      },
      "source": [
        "#Initial Imports"
      ]
    },
    {
      "cell_type": "code",
      "metadata": {
        "id": "sPuRovmzR6rY"
      },
      "source": [
        "!pip install category_encoders==2.*\n",
        "\n",
        "#Imports\n",
        "import category_encoders as ce\n",
        "import pandas as pd\n",
        "import joblib\n",
        "from joblib import dump, load\n",
        "import json\n",
        "from sklearn.metrics import classification_report\n",
        "from sklearn.metrics import confusion_matrix\n",
        "from sklearn.metrics import  f1_score, roc_auc_score, roc_curve, precision_score, recall_score, accuracy_score\n",
        "from xgboost import XGBClassifier"
      ],
      "execution_count": null,
      "outputs": []
    },
    {
      "cell_type": "code",
      "metadata": {
        "id": "FqXYtxf76wrE"
      },
      "source": [
        ""
      ],
      "execution_count": null,
      "outputs": []
    },
    {
      "cell_type": "markdown",
      "metadata": {
        "id": "tnFuTb2m5fXM"
      },
      "source": [
        "#Download data, initial examination of data"
      ]
    },
    {
      "cell_type": "code",
      "metadata": {
        "id": "g2zDFGpnhj6w",
        "outputId": "20426d01-02b6-462a-8be2-32a223e88acb",
        "colab": {
          "base_uri": "https://localhost:8080/",
          "height": 54
        }
      },
      "source": [
        "from google.colab import drive\n",
        "drive.mount('/content/drive')"
      ],
      "execution_count": 6,
      "outputs": [
        {
          "output_type": "stream",
          "text": [
            "Drive already mounted at /content/drive; to attempt to forcibly remount, call drive.mount(\"/content/drive\", force_remount=True).\n"
          ],
          "name": "stdout"
        }
      ]
    },
    {
      "cell_type": "code",
      "metadata": {
        "id": "Ej9NA0XdjIGM"
      },
      "source": [
        "df1 = pd.read_csv('/content/drive/My Drive/clean_kickstart_data.csv')\n",
        "df1.head()"
      ],
      "execution_count": null,
      "outputs": []
    },
    {
      "cell_type": "code",
      "metadata": {
        "id": "0O2rEP_GvPEu",
        "outputId": "f1f1cb1a-a979-4537-a6c3-702e0affbc53",
        "colab": {
          "base_uri": "https://localhost:8080/",
          "height": 34
        }
      },
      "source": [
        "df1['blurb'].dtype"
      ],
      "execution_count": 8,
      "outputs": [
        {
          "output_type": "execute_result",
          "data": {
            "text/plain": [
              "dtype('O')"
            ]
          },
          "metadata": {
            "tags": []
          },
          "execution_count": 8
        }
      ]
    },
    {
      "cell_type": "code",
      "metadata": {
        "id": "2gHMqqml53Q0"
      },
      "source": [
        "# Assign datatypes for\n",
        "df1['blurb'] = df1['blurb'].astype(str)\n",
        "df1['country'] = df1['country'].astype(str)\n",
        "df1['campaign_success'] = df1['campaign_success'].astype(int)\n"
      ],
      "execution_count": 9,
      "outputs": []
    },
    {
      "cell_type": "code",
      "metadata": {
        "id": "xkZBI7nkODtg"
      },
      "source": [
        "df1.info()"
      ],
      "execution_count": null,
      "outputs": []
    },
    {
      "cell_type": "markdown",
      "metadata": {
        "id": "5qFyOcMerQNT"
      },
      "source": [
        "#Train, Validate, Test Split"
      ]
    },
    {
      "cell_type": "code",
      "metadata": {
        "id": "L_ySXVPfrfMm",
        "outputId": "c203ae6d-d139-4137-b02b-e1ff39374528",
        "colab": {
          "base_uri": "https://localhost:8080/",
          "height": 0
        }
      },
      "source": [
        "# Choose cutoffs based on unix time\n",
        "cutoff1 = 1466003000\n",
        "cutoff2 = 1530120000\n",
        "\n",
        "test = df1[df1['launched_at']>=cutoff2]\n",
        "train = df1[df1['launched_at']<cutoff2]\n",
        "val = train[train['launched_at']>cutoff1] \n",
        "train = train[train['launched_at']<=cutoff1]\n",
        "\n",
        "# Drop launched_at column, not used in model\n",
        "train = train.drop(columns=['launched_at'])\n",
        "val = val.drop(columns=['launched_at']) \n",
        "test = test.drop(columns=['launched_at'])\n",
        "\n",
        "print(train.shape)\n",
        "print(val.shape)\n",
        "print(test.shape)"
      ],
      "execution_count": 11,
      "outputs": [
        {
          "output_type": "stream",
          "text": [
            "(86636, 7)\n",
            "(45201, 7)\n",
            "(47619, 7)\n"
          ],
          "name": "stdout"
        }
      ]
    },
    {
      "cell_type": "code",
      "metadata": {
        "id": "kggujtl2A8UM",
        "outputId": "55838511-39ab-401c-da20-2750defcc1ac",
        "colab": {
          "base_uri": "https://localhost:8080/",
          "height": 0
        }
      },
      "source": [
        "# Get ratio of defaulters for train\n",
        "train['campaign_success'].value_counts(normalize=True)"
      ],
      "execution_count": 12,
      "outputs": [
        {
          "output_type": "execute_result",
          "data": {
            "text/plain": [
              "1    0.55979\n",
              "0    0.44021\n",
              "Name: campaign_success, dtype: float64"
            ]
          },
          "metadata": {
            "tags": []
          },
          "execution_count": 12
        }
      ]
    },
    {
      "cell_type": "markdown",
      "metadata": {
        "id": "lT2K378F5z4c"
      },
      "source": [
        "#Target Vector / Features Matrix Split"
      ]
    },
    {
      "cell_type": "code",
      "metadata": {
        "id": "v-ZaS_qR5xqe"
      },
      "source": [
        "# Target, is the client a defaulter\n",
        "target = 'campaign_success'\n",
        "\n",
        "# Features\n",
        "features = list(train.drop(columns = [target]))"
      ],
      "execution_count": 13,
      "outputs": []
    },
    {
      "cell_type": "code",
      "metadata": {
        "id": "-EGIm0_h8HHw"
      },
      "source": [
        "# Arrange data into X features matrix and y target vector \n",
        "X_train = train[features]\n",
        "y_train = train[target]\n",
        "X_val = val[features]\n",
        "y_val = val[target]\n",
        "X_test = test[features]\n",
        "y_test = test[target]"
      ],
      "execution_count": 14,
      "outputs": []
    },
    {
      "cell_type": "code",
      "metadata": {
        "id": "IpTVCvQvjhZG",
        "outputId": "6a01e443-b1ac-46f2-c12a-4efe073eb6d6",
        "colab": {
          "base_uri": "https://localhost:8080/",
          "height": 195
        }
      },
      "source": [
        "X_train.head()"
      ],
      "execution_count": 15,
      "outputs": [
        {
          "output_type": "execute_result",
          "data": {
            "text/html": [
              "<div>\n",
              "<style scoped>\n",
              "    .dataframe tbody tr th:only-of-type {\n",
              "        vertical-align: middle;\n",
              "    }\n",
              "\n",
              "    .dataframe tbody tr th {\n",
              "        vertical-align: top;\n",
              "    }\n",
              "\n",
              "    .dataframe thead th {\n",
              "        text-align: right;\n",
              "    }\n",
              "</style>\n",
              "<table border=\"1\" class=\"dataframe\">\n",
              "  <thead>\n",
              "    <tr style=\"text-align: right;\">\n",
              "      <th></th>\n",
              "      <th>blurb</th>\n",
              "      <th>country</th>\n",
              "      <th>goal</th>\n",
              "      <th>category</th>\n",
              "      <th>subcategory</th>\n",
              "      <th>campaign_length</th>\n",
              "    </tr>\n",
              "  </thead>\n",
              "  <tbody>\n",
              "    <tr>\n",
              "      <th>1</th>\n",
              "      <td>JinBucha is a new kind of Brewery in North Par...</td>\n",
              "      <td>the United States</td>\n",
              "      <td>20000.0</td>\n",
              "      <td>Food</td>\n",
              "      <td>Drinks</td>\n",
              "      <td>30.000000</td>\n",
              "    </tr>\n",
              "    <tr>\n",
              "      <th>3</th>\n",
              "      <td>Bringing Philly cheesesteaks (and other delici...</td>\n",
              "      <td>the United States</td>\n",
              "      <td>2000.0</td>\n",
              "      <td>Food</td>\n",
              "      <td>Food Trucks</td>\n",
              "      <td>59.958333</td>\n",
              "    </tr>\n",
              "    <tr>\n",
              "      <th>5</th>\n",
              "      <td>Two aerialists, 100 feet of rope, and a myth d...</td>\n",
              "      <td>the United States</td>\n",
              "      <td>1800.0</td>\n",
              "      <td>Dance</td>\n",
              "      <td>Dance</td>\n",
              "      <td>15.000000</td>\n",
              "    </tr>\n",
              "    <tr>\n",
              "      <th>8</th>\n",
              "      <td>I've written poems I believe in. I want to pub...</td>\n",
              "      <td>the United States</td>\n",
              "      <td>1800.0</td>\n",
              "      <td>Publishing</td>\n",
              "      <td>Poetry</td>\n",
              "      <td>30.000000</td>\n",
              "    </tr>\n",
              "    <tr>\n",
              "      <th>9</th>\n",
              "      <td>We serve Jerk Chicken and Pork all over NC at ...</td>\n",
              "      <td>the United States</td>\n",
              "      <td>3500.0</td>\n",
              "      <td>Food</td>\n",
              "      <td>Food Trucks</td>\n",
              "      <td>35.000000</td>\n",
              "    </tr>\n",
              "  </tbody>\n",
              "</table>\n",
              "</div>"
            ],
            "text/plain": [
              "                                               blurb  ... campaign_length\n",
              "1  JinBucha is a new kind of Brewery in North Par...  ...       30.000000\n",
              "3  Bringing Philly cheesesteaks (and other delici...  ...       59.958333\n",
              "5  Two aerialists, 100 feet of rope, and a myth d...  ...       15.000000\n",
              "8  I've written poems I believe in. I want to pub...  ...       30.000000\n",
              "9  We serve Jerk Chicken and Pork all over NC at ...  ...       35.000000\n",
              "\n",
              "[5 rows x 6 columns]"
            ]
          },
          "metadata": {
            "tags": []
          },
          "execution_count": 15
        }
      ]
    },
    {
      "cell_type": "markdown",
      "metadata": {
        "id": "oKfVC_elWpGg"
      },
      "source": [
        "# Wrangle Data\n"
      ]
    },
    {
      "cell_type": "code",
      "metadata": {
        "id": "xtQu9LESBcq4",
        "outputId": "a624de8b-bbb8-4365-8285-06ba76e05615",
        "colab": {
          "base_uri": "https://localhost:8080/",
          "height": 87
        }
      },
      "source": [
        "#Create and train transformations\n",
        "# Encode catagorical features on X_train\n",
        "encoder = ce.OrdinalEncoder(cols=['country', 'category', 'subcategory'])\n",
        "encoder.fit(X_train)\n",
        "print('')"
      ],
      "execution_count": 16,
      "outputs": [
        {
          "output_type": "stream",
          "text": [
            "\n"
          ],
          "name": "stdout"
        },
        {
          "output_type": "stream",
          "text": [
            "/usr/local/lib/python3.6/dist-packages/category_encoders/utils.py:21: FutureWarning: is_categorical is deprecated and will be removed in a future version.  Use is_categorical_dtype instead\n",
            "  elif pd.api.types.is_categorical(cols):\n"
          ],
          "name": "stderr"
        }
      ]
    },
    {
      "cell_type": "code",
      "metadata": {
        "id": "tKpvOUvZZXsi"
      },
      "source": [
        "def wrangle(X, encoder):\n",
        "\n",
        "    # copy to avoid errors\n",
        "    X = X.reset_index(drop=True).copy()\n",
        "\n",
        "    X = encoder.transform(X)\n",
        "\n",
        "    X['blurb_length'] = X['blurb'].apply(lambda x: len(x))\n",
        "    X['blurb_words'] = X['blurb'].apply(lambda x: len(x.split()))\n",
        "    X['blurb_uppers'] = X['blurb'].apply(lambda x: sum(map(str.isupper, x.split())))\n",
        "    X['blurb_qmarks'] = X['blurb'].apply(lambda x: x.count(\"?\"))\n",
        "    X['blub_exclamation'] = X['blurb'].apply(lambda x: x.count(\"!\"))\n",
        "    X = X.drop(columns=['blurb'])\n",
        "\n",
        "    return(X)"
      ],
      "execution_count": 17,
      "outputs": []
    },
    {
      "cell_type": "code",
      "metadata": {
        "id": "_jR6KzrA82-5",
        "outputId": "67f531ff-6943-4594-c818-0ddf6e19218a",
        "colab": {
          "base_uri": "https://localhost:8080/",
          "height": 67
        }
      },
      "source": [
        "X_train_e = wrangle(X_train, encoder)\n",
        "X_val_e = wrangle(X_val, encoder)\n",
        "X_test_e = wrangle(X_test, encoder)\n",
        "print(X_train_e.shape)\n",
        "print(X_val_e.shape)\n",
        "print(X_test_e.shape)\n"
      ],
      "execution_count": 18,
      "outputs": [
        {
          "output_type": "stream",
          "text": [
            "(86636, 10)\n",
            "(45201, 10)\n",
            "(47619, 10)\n"
          ],
          "name": "stdout"
        }
      ]
    },
    {
      "cell_type": "markdown",
      "metadata": {
        "id": "SsDrQBIuf7yW"
      },
      "source": [
        "#Tracking Dataframe"
      ]
    },
    {
      "cell_type": "code",
      "metadata": {
        "id": "zDDBkcbJf8Xw",
        "outputId": "6ddbb5bd-f7d4-42d1-c4d5-1df141fe0d6a",
        "colab": {
          "base_uri": "https://localhost:8080/",
          "height": 0
        }
      },
      "source": [
        "# Create dataframe to track outcomes\n",
        "columns =['Model','True -', 'False +', 'False -','True +','Accuracy', 'Precision', 'Recall']\n",
        "tracker= pd.DataFrame(columns=columns)\n",
        "tracker"
      ],
      "execution_count": 19,
      "outputs": [
        {
          "output_type": "execute_result",
          "data": {
            "text/html": [
              "<div>\n",
              "<style scoped>\n",
              "    .dataframe tbody tr th:only-of-type {\n",
              "        vertical-align: middle;\n",
              "    }\n",
              "\n",
              "    .dataframe tbody tr th {\n",
              "        vertical-align: top;\n",
              "    }\n",
              "\n",
              "    .dataframe thead th {\n",
              "        text-align: right;\n",
              "    }\n",
              "</style>\n",
              "<table border=\"1\" class=\"dataframe\">\n",
              "  <thead>\n",
              "    <tr style=\"text-align: right;\">\n",
              "      <th></th>\n",
              "      <th>Model</th>\n",
              "      <th>True -</th>\n",
              "      <th>False +</th>\n",
              "      <th>False -</th>\n",
              "      <th>True +</th>\n",
              "      <th>Accuracy</th>\n",
              "      <th>Precision</th>\n",
              "      <th>Recall</th>\n",
              "    </tr>\n",
              "  </thead>\n",
              "  <tbody>\n",
              "  </tbody>\n",
              "</table>\n",
              "</div>"
            ],
            "text/plain": [
              "Empty DataFrame\n",
              "Columns: [Model, True -, False +, False -, True +, Accuracy, Precision, Recall]\n",
              "Index: []"
            ]
          },
          "metadata": {
            "tags": []
          },
          "execution_count": 19
        }
      ]
    },
    {
      "cell_type": "code",
      "metadata": {
        "id": "HLN2BBY1grxJ"
      },
      "source": [
        "# Function to add rows to tracking dataframe\n",
        "# m_name = Model Name\n",
        "\n",
        "def row_maker(m_name, y, pred):\n",
        "  tn, fp, fn, tp = confusion_matrix(y, pred).ravel()\n",
        "  recall = round((tp/(tp+fn)),2) # true positive rate\n",
        "  n_recall = round((tn/(tn+fp)),2) #true negative rate\n",
        "  precision = round((tp/(tp+fp)),2) # true positive rate\n",
        "  top = tp+tn\n",
        "  bottom = tn+fp+fn+tp\n",
        "  accuracy = round(((tp+tn)/(tp+tn+fp+fn)),2) # accuracy\n",
        "  # accuracy = round((top/bottom),2) # accuracy\n",
        "  new_row = {'Model':m_name,'True -':tn, 'False +':fp, 'False -':fn,'True +':tp ,'Accuracy':accuracy,'Precision':precision, 'Recall':recall}\n",
        "  return new_row"
      ],
      "execution_count": 20,
      "outputs": []
    },
    {
      "cell_type": "markdown",
      "metadata": {
        "id": "YWbGvqYKmc4g"
      },
      "source": [
        "#XGBoost"
      ]
    },
    {
      "cell_type": "code",
      "metadata": {
        "id": "lfS0OzBajBZ3"
      },
      "source": [
        "\"\"\" Define Model\"\"\"\n",
        "# First XGBoost Model\n",
        "booster= XGBClassifier(n_estimators=100, random_state=42, n_jobs=-1)\n",
        "\n",
        "# XBG Simple\n",
        "xgb_simple= booster.fit(X_train_e, y_train) #fit on train"
      ],
      "execution_count": 21,
      "outputs": []
    },
    {
      "cell_type": "markdown",
      "metadata": {
        "id": "Ft8ZPdbLxMyx"
      },
      "source": [
        "##Testing XGBoost"
      ]
    },
    {
      "cell_type": "code",
      "metadata": {
        "id": "roKM_9o3NWyy",
        "outputId": "3be2bb9f-fc47-4ee1-b5fd-241c653fb071",
        "colab": {
          "base_uri": "https://localhost:8080/",
          "height": 262
        }
      },
      "source": [
        "\"\"\" Run Model XGBoost Simple \"\"\"\n",
        "xs_y_pred_v = booster.predict(X_val_e)\n",
        "\n",
        "m_name = 'XGBoost Simple'\n",
        "y = y_val\n",
        "pred = xs_y_pred_v\n",
        "\n",
        "print('Classification Report:\\n\\n', classification_report(y, pred))\n",
        "\n",
        "# tracking dataframe\n",
        "new_row=row_maker(m_name, y, pred)\n",
        "tracker = tracker.append(new_row, ignore_index=True)\n",
        "tracker"
      ],
      "execution_count": 22,
      "outputs": [
        {
          "output_type": "stream",
          "text": [
            "Classification Report:\n",
            "\n",
            "               precision    recall  f1-score   support\n",
            "\n",
            "           0       0.72      0.65      0.68     21196\n",
            "           1       0.71      0.78      0.74     24005\n",
            "\n",
            "    accuracy                           0.72     45201\n",
            "   macro avg       0.72      0.71      0.71     45201\n",
            "weighted avg       0.72      0.72      0.71     45201\n",
            "\n"
          ],
          "name": "stdout"
        },
        {
          "output_type": "execute_result",
          "data": {
            "text/html": [
              "<div>\n",
              "<style scoped>\n",
              "    .dataframe tbody tr th:only-of-type {\n",
              "        vertical-align: middle;\n",
              "    }\n",
              "\n",
              "    .dataframe tbody tr th {\n",
              "        vertical-align: top;\n",
              "    }\n",
              "\n",
              "    .dataframe thead th {\n",
              "        text-align: right;\n",
              "    }\n",
              "</style>\n",
              "<table border=\"1\" class=\"dataframe\">\n",
              "  <thead>\n",
              "    <tr style=\"text-align: right;\">\n",
              "      <th></th>\n",
              "      <th>Model</th>\n",
              "      <th>True -</th>\n",
              "      <th>False +</th>\n",
              "      <th>False -</th>\n",
              "      <th>True +</th>\n",
              "      <th>Accuracy</th>\n",
              "      <th>Precision</th>\n",
              "      <th>Recall</th>\n",
              "    </tr>\n",
              "  </thead>\n",
              "  <tbody>\n",
              "    <tr>\n",
              "      <th>0</th>\n",
              "      <td>XGBoost Simple</td>\n",
              "      <td>13708</td>\n",
              "      <td>7488</td>\n",
              "      <td>5375</td>\n",
              "      <td>18630</td>\n",
              "      <td>0.72</td>\n",
              "      <td>0.71</td>\n",
              "      <td>0.78</td>\n",
              "    </tr>\n",
              "  </tbody>\n",
              "</table>\n",
              "</div>"
            ],
            "text/plain": [
              "            Model True - False + False - True +  Accuracy  Precision  Recall\n",
              "0  XGBoost Simple  13708    7488    5375  18630      0.72       0.71    0.78"
            ]
          },
          "metadata": {
            "tags": []
          },
          "execution_count": 22
        }
      ]
    },
    {
      "cell_type": "code",
      "metadata": {
        "id": "u4T603z_uf-g",
        "outputId": "10b87b0a-1530-45f9-dac4-4d2c034ac104",
        "colab": {
          "base_uri": "https://localhost:8080/",
          "height": 291
        }
      },
      "source": [
        "\"\"\" Run Model\"\"\"\n",
        "xs_y_pred_test = booster.predict(X_test_e)\n",
        "\n",
        "m_name = 'XGBoost Simple TEST'\n",
        "model =  booster.fit(X_train_e, y_train)\n",
        "X = X_test_e\n",
        "y = y_test\n",
        "pred = xs_y_pred_test\n",
        "\n",
        "print('Classification Report:\\n\\n', classification_report(y, pred))\n",
        "\n",
        "# tracking dataframe\n",
        "new_row=row_maker(m_name, y, pred)\n",
        "tracker = tracker.append(new_row, ignore_index=True)\n",
        "tracker"
      ],
      "execution_count": 23,
      "outputs": [
        {
          "output_type": "stream",
          "text": [
            "Classification Report:\n",
            "\n",
            "               precision    recall  f1-score   support\n",
            "\n",
            "           0       0.66      0.63      0.65     15914\n",
            "           1       0.82      0.84      0.83     31705\n",
            "\n",
            "    accuracy                           0.77     47619\n",
            "   macro avg       0.74      0.74      0.74     47619\n",
            "weighted avg       0.77      0.77      0.77     47619\n",
            "\n"
          ],
          "name": "stdout"
        },
        {
          "output_type": "execute_result",
          "data": {
            "text/html": [
              "<div>\n",
              "<style scoped>\n",
              "    .dataframe tbody tr th:only-of-type {\n",
              "        vertical-align: middle;\n",
              "    }\n",
              "\n",
              "    .dataframe tbody tr th {\n",
              "        vertical-align: top;\n",
              "    }\n",
              "\n",
              "    .dataframe thead th {\n",
              "        text-align: right;\n",
              "    }\n",
              "</style>\n",
              "<table border=\"1\" class=\"dataframe\">\n",
              "  <thead>\n",
              "    <tr style=\"text-align: right;\">\n",
              "      <th></th>\n",
              "      <th>Model</th>\n",
              "      <th>True -</th>\n",
              "      <th>False +</th>\n",
              "      <th>False -</th>\n",
              "      <th>True +</th>\n",
              "      <th>Accuracy</th>\n",
              "      <th>Precision</th>\n",
              "      <th>Recall</th>\n",
              "    </tr>\n",
              "  </thead>\n",
              "  <tbody>\n",
              "    <tr>\n",
              "      <th>0</th>\n",
              "      <td>XGBoost Simple</td>\n",
              "      <td>13708</td>\n",
              "      <td>7488</td>\n",
              "      <td>5375</td>\n",
              "      <td>18630</td>\n",
              "      <td>0.72</td>\n",
              "      <td>0.71</td>\n",
              "      <td>0.78</td>\n",
              "    </tr>\n",
              "    <tr>\n",
              "      <th>1</th>\n",
              "      <td>XGBoost Simple TEST</td>\n",
              "      <td>10065</td>\n",
              "      <td>5849</td>\n",
              "      <td>5086</td>\n",
              "      <td>26619</td>\n",
              "      <td>0.77</td>\n",
              "      <td>0.82</td>\n",
              "      <td>0.84</td>\n",
              "    </tr>\n",
              "  </tbody>\n",
              "</table>\n",
              "</div>"
            ],
            "text/plain": [
              "                 Model True - False +  ... Accuracy Precision  Recall\n",
              "0       XGBoost Simple  13708    7488  ...     0.72      0.71    0.78\n",
              "1  XGBoost Simple TEST  10065    5849  ...     0.77      0.82    0.84\n",
              "\n",
              "[2 rows x 8 columns]"
            ]
          },
          "metadata": {
            "tags": []
          },
          "execution_count": 23
        }
      ]
    },
    {
      "cell_type": "code",
      "metadata": {
        "id": "3Mtiw6QIk4m2",
        "outputId": "f64888b0-7f14-4122-e77f-3698317fdd3d",
        "colab": {
          "base_uri": "https://localhost:8080/",
          "height": 151
        }
      },
      "source": [
        "# Select an observation to test\n",
        "i=1\n",
        "row = X_test_e.iloc[[i]] #select a row\n",
        "a_row = y_test.iloc[[i]].values.tolist() # actual campaign success\n",
        "p_row = booster.predict(row)# predicted success\n",
        "pp_row = booster.predict_proba(row) #see the probability that this would be the choice\n",
        "print(row)\n",
        "print('Actual:', a_row)\n",
        "print('Predicted:', p_row)\n",
        "print('Probility of Prediction:', pp_row)\n",
        "print('Probility of Prediction:',round((pp_row[0][1]),3))"
      ],
      "execution_count": 24,
      "outputs": [
        {
          "output_type": "stream",
          "text": [
            "   country   goal  category  ...  blurb_uppers  blurb_qmarks  blub_exclamation\n",
            "1      1.0  800.0        13  ...             0             0                 0\n",
            "\n",
            "[1 rows x 10 columns]\n",
            "Actual: [1]\n",
            "Predicted: [1]\n",
            "Probility of Prediction: [[0.05640137 0.9435986 ]]\n",
            "Probility of Prediction: 0.944\n"
          ],
          "name": "stdout"
        }
      ]
    },
    {
      "cell_type": "markdown",
      "metadata": {
        "id": "Qf5vJOpHki72"
      },
      "source": [
        "#Prepare JobLib Files"
      ]
    },
    {
      "cell_type": "code",
      "metadata": {
        "id": "GC6AUVUlq5uG"
      },
      "source": [
        "dump(encoder, 'encoder2.joblib' )\n",
        "encoder2 = load('encoder2.joblib')"
      ],
      "execution_count": 25,
      "outputs": []
    },
    {
      "cell_type": "code",
      "metadata": {
        "id": "l3ZU2v2C4CcV"
      },
      "source": [
        "# Wrangle Function to 'Pickle'\n",
        "\n",
        "def wrangler(X, encoder):\n",
        "  X = pd.DataFrame.from_dict(X, orient='index')\n",
        "  X = X.T\n",
        "  X = X.reset_index(drop=True).copy()\n",
        "  X.rename(columns={'x1':'goal',\n",
        "                    'x2':'campaign_length',\n",
        "                    'x3':'country',\n",
        "                    'x4':'category',\n",
        "                    'x5':'subcategory',\n",
        "                    'x6':'blurb'}, inplace=True)\n",
        "\n",
        "  X = encoder.transform(X)\n",
        "  X = X[['country', 'goal', 'category', 'subcategory',\n",
        "         'campaign_length', 'blurb']]\n",
        "\n",
        "  X['blurb_length'] = X['blurb'].apply(lambda x: len(x))\n",
        "  X['blurb_words'] = X['blurb'].apply(lambda x: len(x.split()))\n",
        "  X['blurb_uppers'] = X['blurb'].apply(lambda x: sum(map(str.isupper, x.split())))\n",
        "  X['blurb_qmarks'] = X['blurb'].apply(lambda x: x.count(\"?\"))\n",
        "  X['blub_exclamation'] = X['blurb'].apply(lambda x: x.count(\"!\"))\n",
        "  X = X.drop(columns=['blurb'])\n",
        "  X = X.astype(int)\n",
        "  return(X)\n"
      ],
      "execution_count": 26,
      "outputs": []
    },
    {
      "cell_type": "code",
      "metadata": {
        "id": "kURCbVdO2PuZ"
      },
      "source": [
        "\n",
        "dump(wrangler, 'wrangler2.joblib' )\n",
        "wrangler2 = load('wrangler2.joblib')"
      ],
      "execution_count": 27,
      "outputs": []
    },
    {
      "cell_type": "code",
      "metadata": {
        "id": "ctGgrpAx5kLo"
      },
      "source": [
        "# XGBoost Model to Pickle\n",
        "def kick_boost(X):\n",
        "  prediction = booster.predict_proba(X)[0][1]\n",
        "  prediction = round(prediction, 3)\n",
        "  \n",
        "  return(prediction)\n",
        "\n"
      ],
      "execution_count": 28,
      "outputs": []
    },
    {
      "cell_type": "code",
      "metadata": {
        "id": "y6dIEgyO2WN0"
      },
      "source": [
        "dump(kick_boost, 'kick_boost2.joblib' )\n",
        "kick_boost2=load('kick_boost2.joblib')"
      ],
      "execution_count": 29,
      "outputs": []
    },
    {
      "cell_type": "code",
      "metadata": {
        "id": "CjfmJGWJkWCC"
      },
      "source": [
        "# Dummy Data\n",
        "test_1 = {\n",
        "  \"x1\": 10000,\n",
        "  \"x2\": 8,\n",
        "  \"x3\": \"Canada\",\n",
        "  \"x4\": \"Science\",\n",
        "  \"x5\": \"Material Thread Science\",\n",
        "  \"x6\": \"I am making somthing that will do something awesome!!! Answer the question 'will it be amazing?'\"\n",
        "}\n",
        "\n",
        "\n"
      ],
      "execution_count": 31,
      "outputs": []
    },
    {
      "cell_type": "code",
      "metadata": {
        "id": "DnKlBFGK6L6F",
        "outputId": "76d9b197-8c9d-4985-92a9-53f5474a4ecc",
        "colab": {
          "base_uri": "https://localhost:8080/",
          "height": 34
        }
      },
      "source": [
        "result = wrangler2(test_1, encoder2)\n",
        "prediction = kick_boost2(result)\n",
        "prediction"
      ],
      "execution_count": 33,
      "outputs": [
        {
          "output_type": "execute_result",
          "data": {
            "text/plain": [
              "0.413"
            ]
          },
          "metadata": {
            "tags": []
          },
          "execution_count": 33
        }
      ]
    },
    {
      "cell_type": "code",
      "metadata": {
        "id": "1b0tw07CzaOI"
      },
      "source": [
        "row = X_test.iloc[[1]]\n",
        "row_a = X_test_e.iloc[[1]]\n",
        "test_2 = (row.to_dict(orient='record'))\n",
        "test_2"
      ],
      "execution_count": null,
      "outputs": []
    },
    {
      "cell_type": "code",
      "metadata": {
        "id": "rmXYW1mw7V3d"
      },
      "source": [
        "test_2 = {\n",
        "  \"x1\": 800,\n",
        "  \"x2\": 14,\n",
        "  \"x3\": \"the United States\",\n",
        "  \"x4\": 'Design',\n",
        "  \"x5\": 'Product Design',\n",
        "  \"x6\": 'a frog plushie keychain and frog butt pin for all your strange froggy needs',\n",
        "}\n",
        "Y2 = wrangle1(test_2, encoder1)\n",
        "prediction2 = kick_boost1(Y2)\n",
        "prediction2"
      ],
      "execution_count": null,
      "outputs": []
    }
  ]
}